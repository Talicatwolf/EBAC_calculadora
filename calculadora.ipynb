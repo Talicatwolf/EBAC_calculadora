{
  "nbformat": 4,
  "nbformat_minor": 0,
  "metadata": {
    "colab": {
      "provenance": []
    },
    "kernelspec": {
      "name": "python3",
      "display_name": "Python 3"
    },
    "language_info": {
      "name": "python"
    }
  },
  "cells": [
    {
      "cell_type": "code",
      "source": [
        "while True:\n",
        "  try:\n",
        "    num1 = float(input(\"Digite o primeiro número: \"))\n",
        "    num2 = float(input(\"Digite o segundo número: \"))\n",
        "    operacao = input(\"Digite a operação (+, -, *, /): \")\n",
        "\n",
        "    match operacao:\n",
        "      case \"+\":\n",
        "        resultado = num1 + num2\n",
        "      case \"-\":\n",
        "        resultado = num1 - num2\n",
        "      case \"*\":\n",
        "        resultado = num1 * num2\n",
        "      case \"/\":\n",
        "        if num2 == 0:\n",
        "          print(\"Erro: Divisão por zero!\")\n",
        "          continue\n",
        "        resultado = num1 / num2\n",
        "      case _:\n",
        "        print(\"Operação inválida!\")\n",
        "        continue\n",
        "\n",
        "    print(f\"Resultado: {resultado}\")\n",
        "    break  # Sai do loop após o cálculo\n",
        "\n",
        "  except ValueError:\n",
        "    print(\"Entrada inválida. Por favor, digite números válidos.\")"
      ],
      "metadata": {
        "id": "X6RJSC5ooAt6"
      },
      "execution_count": null,
      "outputs": []
    }
  ]
}